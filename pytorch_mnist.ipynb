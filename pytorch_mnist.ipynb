{
 "cells": [
  {
   "cell_type": "code",
   "execution_count": 3,
   "metadata": {},
   "outputs": [],
   "source": [
    "# pytorchでmnist\n",
    "# https://book.mynavi.jp/manatee/detail/id=89498\n",
    "\n",
    "import torch\n",
    "import numpy as np\n",
    "import matplotlib.pyplot as plt\n",
    "from sklearn.datasets import fetch_openml\n",
    "\n",
    "mnist = fetch_openml('mnist_784',version=1,data_home=\".\") # data_homeは保存先\n",
    "\n",
    "# pytorchによるディープラーニングの手順------------\n",
    "# 1.データの前処理\n",
    "# 2.DataLoderの作成\n",
    "# 3.ネットワークの構築\n",
    "# 4.誤差関数（目的関数，損失関数）と最適化手法の設定\n",
    "# 5.学習と推論の設定\n",
    "# 6.学習と推論の実行\n",
    "#---------------------------------------------\n",
    "\n"
   ]
  },
  {
   "cell_type": "code",
   "execution_count": 4,
   "metadata": {},
   "outputs": [
    {
     "name": "stdout",
     "output_type": "stream",
     "text": [
      "この画像データのラベルは5です\n"
     ]
    },
    {
     "data": {
      "image/png": "[encoded data removed]",
      "text/plain": [
       "<Figure size 432x288 with 1 Axes>"
      ]
     },
     "metadata": {
      "needs_background": "light"
     },
     "output_type": "display_data"
    }
   ],
   "source": [
    "# データの前処理\n",
    "X = mnist.data/255 # 正規化\n",
    "y = mnist.target\n",
    "\n",
    "y = np.array(y)\n",
    "y = y.astype(np.int32)\n",
    "\n",
    "# 可視化\n",
    "plt.imshow(X[0].reshape(28,28),cmap=\"gray\")\n",
    "print(\"この画像データのラベルは{:.0f}です\".format(y[0]))"
   ]
  },
  {
   "cell_type": "code",
   "execution_count": 5,
   "metadata": {},
   "outputs": [],
   "source": [
    "# 2.DataLoaderの作成\n",
    "from torch.utils.data import TensorDataset,DataLoader\n",
    "from sklearn.model_selection import train_test_split\n",
    "\n",
    "# 2.1 データを訓練データとテストデータに分割(6:1)\n",
    "X_train,X_test,y_train,y_test = train_test_split(X,y,test_size=1/7,random_state=0)\n",
    "\n",
    "# 2.2 データをpytorchのTensorに変換, NumpyデータをPytorchで扱える型の変数に変換\n",
    "X_train = torch.Tensor(X_train)\n",
    "X_test = torch.Tensor(X_test)\n",
    "y_train = torch.LongTensor(y_train) # ラベルのような整数データの場合はtorch.LongTensorを使用します\n",
    "y_test = torch.LongTensor(y_test)\n",
    "\n",
    "# 2.3 データとラベルをセットにしたDatasetを作成, Tensorに変換された画像データとラベルデータをTensorDatasetで一組にしています。データのセットなので画像とラベルを組にしたものとなります\n",
    "ds_train = TensorDataset(X_train,y_train)\n",
    "ds_test = TensorDataset(X_test,y_test)\n",
    "\n",
    "\n",
    "# 2.4 データセットのミニバッチサイズを指定した，Dataloaderを作成\n",
    "loader_train = DataLoader(ds_train, batch_size=64, shuffle=True)\n",
    "loader_test = DataLoader(ds_test, batch_size=64, shuffle=False)\n",
    "# TensorDatasetを学習と推論がしやすいようにDataLoaderと呼ばれる形式に変換しています。DataLoaderではバッチサイズを指定します。\n",
    "# バッチサイズとは、ニューラルネットワークの結合パラメータを学習する際に一度に使用するデータの数を決めます。\n",
    "# データ全部を使用する方法をバッチ学習、一部を使用する方法をミニバッチ学習、データを1つずつ使用する方法をオンライン学習と呼びます。\n",
    "# ミニバッチ学習を使用することが一般的です。テストデータはミニバッチにする必要はなさそうですが、データがたくさんあった場合に分散処理しやすいようにこちらもミニバッチにすることが多いです。\n",
    "# さらにDataLoaderではデータをシャッフルするかどうか設定します。現在のDatasetは0-9まできれいに並んで格納されているのですが、訓練データに対してランダムな順番で学習を実行したいです。\n",
    "# そこで訓練データのDataLoaderはデータをシャッフルさせます。\n",
    "# テストデータは正答率を求めるだけなので、シャッフルの必要はありません。"
   ]
  },
  {
   "cell_type": "code",
   "execution_count": 7,
   "metadata": {},
   "outputs": [
    {
     "name": "stdout",
     "output_type": "stream",
     "text": [
      "Net(\n",
      "  (fc1): Linear(in_features=784, out_features=100, bias=True)\n",
      "  (fc2): Linear(in_features=100, out_features=100, bias=True)\n",
      "  (fc3): Linear(in_features=100, out_features=10, bias=True)\n",
      ")\n"
     ]
    }
   ],
   "source": [
    "# 3.ネットワークの構築（chainer風）\n",
    "import torch.nn as nn\n",
    "import torch.nn.functional as F\n",
    "\n",
    "class Net(nn.Module):\n",
    "    def __init__(self):\n",
    "        super(Net,self).__init__()\n",
    "        self.fc1 = nn.Linear(28*28*1,100)\n",
    "        self.fc2 = nn.Linear(100,100)\n",
    "        self.fc3 = nn.Linear(100,10)\n",
    "        \n",
    "    def forward(self,x):\n",
    "        h1 = F.relu(self.fc1(x))\n",
    "        h2 = F.relu(self.fc2(h1))\n",
    "        output = self.fc3(h2)\n",
    "        \n",
    "        return output\n",
    "    \n",
    "model = Net() #ネットワークオブジェクトの生成\n",
    "print(model)"
   ]
  },
  {
   "cell_type": "code",
   "execution_count": 8,
   "metadata": {},
   "outputs": [],
   "source": [
    "# 4.損失関数と最適化手法の設定\n",
    "from torch import optim\n",
    "\n",
    "# 損失関数の設定，criterion:基準　とよく名付ける\n",
    "criterion = nn.CrossEntropyLoss()\n",
    "\n",
    "# 重みを学習する際の最適化手法\n",
    "optimizer = optim.Adam(model.parameters(),lr=0.01)\n"
   ]
  },
  {
   "cell_type": "code",
   "execution_count": 14,
   "metadata": {},
   "outputs": [],
   "source": [
    "# 5.学習と推論の設定\n",
    "# 5.1 学習\n",
    "def train(epoch):\n",
    "    model.train() # ネットワークを学習モードに切り替える．おまじない\n",
    "    \n",
    "    # データローダーから1ミニバッチずつ取り出して計算する\n",
    "    for data,targets in loader_train:\n",
    "        optimizer.zero_grad() # 一度計算された勾配結果をリセット\n",
    "        outputs = model(data)\n",
    "        loss = criterion(outputs,targets) # 出力と正解との誤差を求める\n",
    "        loss.backward() # 誤差のバックプロパゲーションを求める\n",
    "        optimizer.step() # バックプロパゲーションの値で重みを更新する\n",
    "        \n",
    "    print(\"epoch{}:終了\\n\".format(epoch))\n",
    "        \n",
    "        \n",
    "# ニューラルネットワークに入力する前にデータをVariable()で変換します。PyTorchではこのVariable関数を使用することで、変数を微分可能なものに変換します。\n",
    "# また学習時にはoptimizer.zero_grad()で毎回バックプロパゲーションの初期値をリセットしてあげます。"
   ]
  },
  {
   "cell_type": "code",
   "execution_count": 15,
   "metadata": {},
   "outputs": [],
   "source": [
    "# 5.2 推論\n",
    "\n",
    "def test():\n",
    "    model.eval() # ネットワークを推論モードに切り替える．おまじない\n",
    "    correct = 0\n",
    "    \n",
    "    # データローダーからミニバッチずつ取り出して計算する\n",
    "    with torch.no_grad(): # 微分は推論では必要ない\n",
    "        for data,targets in loader_test:\n",
    "            outputs = model(data)\n",
    "            \n",
    "            # 推論する\n",
    "            _, predicted = torch.max(outputs.data, 1)  # 確率が最大のラベルを求める\n",
    "            correct += predicted.eq(targets.data.view_as(predicted)).sum()  # 正解と一緒だったらカウントアップ\n",
    "            \n",
    "    # 正解率を出力\n",
    "    data_num = len(loader_test.dataset)  # データの総数\n",
    "    print('\\nテストデータの正解率: {}/{} ({:.0f}%)\\n'.format(correct,data_num, 100. * correct / data_num))"
   ]
  },
  {
   "cell_type": "code",
   "execution_count": 16,
   "metadata": {},
   "outputs": [
    {
     "name": "stdout",
     "output_type": "stream",
     "text": [
      "\n",
      "テストデータの正解率: 993/10000 (9%)\n",
      "\n"
     ]
    }
   ],
   "source": [
    "test()"
   ]
  },
  {
   "cell_type": "code",
   "execution_count": 17,
   "metadata": {},
   "outputs": [
    {
     "name": "stdout",
     "output_type": "stream",
     "text": [
      "epoch0:終了\n",
      "\n",
      "epoch1:終了\n",
      "\n",
      "epoch2:終了\n",
      "\n",
      "\n",
      "テストデータの正解率: 9576/10000 (95%)\n",
      "\n"
     ]
    }
   ],
   "source": [
    "# 6.学習と推論の実行\n",
    "\n",
    "for epoch in range(3):\n",
    "    train(epoch)\n",
    "    \n",
    "test()"
   ]
  },
  {
   "cell_type": "code",
   "execution_count": 20,
   "metadata": {},
   "outputs": [
    {
     "name": "stdout",
     "output_type": "stream",
     "text": [
      "予測結果は3\n",
      "この画像データの正解ラベルは3です\n"
     ]
    },
    {
     "data": {
      "image/png": "[encoded data removed]",
      "text/plain": [
       "<Figure size 432x288 with 1 Axes>"
      ]
     },
     "metadata": {
      "needs_background": "light"
     },
     "output_type": "display_data"
    }
   ],
   "source": [
    "# 結果を見てみる\n",
    "index = 209\n",
    "\n",
    "model.eval() # 推論モードに切り替える\n",
    "data = X_test[index]\n",
    "output = model(data)\n",
    "_,predicted = torch.max(output.data,0) # 確率が最大のラベルを求める\n",
    "\n",
    "print(\"予測結果は{}\".format(predicted))\n",
    "\n",
    "X_test_show = (X_test[index]).numpy()\n",
    "plt.imshow(X_test_show.reshape(28, 28), cmap='gray')\n",
    "print(\"この画像データの正解ラベルは{:.0f}です\".format(y_test[index]))"
   ]
  },
  {
   "cell_type": "code",
   "execution_count": null,
   "metadata": {},
   "outputs": [],
   "source": []
  }
 ],
 "metadata": {
  "kernelspec": {
   "display_name": "Python 3",
   "language": "python",
   "name": "python3"
  },
  "language_info": {
   "codemirror_mode": {
    "name": "ipython",
    "version": 3
   },
   "file_extension": ".py",
   "mimetype": "text/x-python",
   "name": "python",
   "nbconvert_exporter": "python",
   "pygments_lexer": "ipython3",
   "version": "3.7.3"
  }
 },
 "nbformat": 4,
 "nbformat_minor": 4
}
